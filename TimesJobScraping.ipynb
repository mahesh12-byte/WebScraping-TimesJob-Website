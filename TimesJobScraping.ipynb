{
  "cells": [
    {
      "cell_type": "code",
      "execution_count": null,
      "metadata": {
        "colab": {
          "base_uri": "https://localhost:8080/"
        },
        "id": "bjoO63SxzcFw",
        "outputId": "8f42e702-cab9-4459-a8dc-593f9593f640"
      },
      "outputs": [
        {
          "output_type": "stream",
          "name": "stdout",
          "text": [
            "Looking in indexes: https://pypi.org/simple, https://us-python.pkg.dev/colab-wheels/public/simple/\n",
            "Requirement already satisfied: beautifulsoup4 in /usr/local/lib/python3.7/dist-packages (4.6.3)\n"
          ]
        }
      ],
      "source": [
        "pip install beautifulsoup4"
      ]
    },
    {
      "cell_type": "code",
      "execution_count": null,
      "metadata": {
        "colab": {
          "base_uri": "https://localhost:8080/"
        },
        "id": "vuOvbPJhzpho",
        "outputId": "47ef4791-275e-4424-bb56-5de46354e7c5"
      },
      "outputs": [
        {
          "output_type": "stream",
          "name": "stdout",
          "text": [
            "Looking in indexes: https://pypi.org/simple, https://us-python.pkg.dev/colab-wheels/public/simple/\n",
            "Requirement already satisfied: lxml in /usr/local/lib/python3.7/dist-packages (4.9.1)\n"
          ]
        }
      ],
      "source": [
        "pip install lxml\n"
      ]
    },
    {
      "cell_type": "code",
      "execution_count": null,
      "metadata": {
        "id": "iigarIrYzsEF"
      },
      "outputs": [],
      "source": [
        "from bs4 import BeautifulSoup"
      ]
    },
    {
      "cell_type": "code",
      "execution_count": null,
      "metadata": {
        "id": "UjUvzP0xyKQq"
      },
      "outputs": [],
      "source": [
        "import time"
      ]
    },
    {
      "cell_type": "code",
      "execution_count": null,
      "metadata": {
        "colab": {
          "base_uri": "https://localhost:8080/"
        },
        "id": "5j5QTTdJ29cH",
        "outputId": "1f9607ac-2d50-4f53-b1ec-d9e2a67ded9f"
      },
      "outputs": [
        {
          "output_type": "stream",
          "name": "stdout",
          "text": [
            "Looking in indexes: https://pypi.org/simple, https://us-python.pkg.dev/colab-wheels/public/simple/\n",
            "Requirement already satisfied: requests in /usr/local/lib/python3.7/dist-packages (2.23.0)\n",
            "Requirement already satisfied: urllib3!=1.25.0,!=1.25.1,<1.26,>=1.21.1 in /usr/local/lib/python3.7/dist-packages (from requests) (1.24.3)\n",
            "Requirement already satisfied: certifi>=2017.4.17 in /usr/local/lib/python3.7/dist-packages (from requests) (2022.6.15)\n",
            "Requirement already satisfied: idna<3,>=2.5 in /usr/local/lib/python3.7/dist-packages (from requests) (2.10)\n",
            "Requirement already satisfied: chardet<4,>=3.0.2 in /usr/local/lib/python3.7/dist-packages (from requests) (3.0.4)\n"
          ]
        }
      ],
      "source": [
        "pip install requests"
      ]
    },
    {
      "cell_type": "code",
      "execution_count": null,
      "metadata": {
        "id": "1EQsZHpm3JbS"
      },
      "outputs": [],
      "source": [
        "import requests"
      ]
    },
    {
      "cell_type": "code",
      "execution_count": null,
      "metadata": {
        "colab": {
          "background_save": true,
          "base_uri": "https://localhost:8080/"
        },
        "id": "1O613CK-vGpX",
        "outputId": "0aa2f502-088d-40be-f4b6-e8964a0769bb"
      },
      "outputs": [
        {
          "output_type": "stream",
          "name": "stdout",
          "text": [
            "Put some skills your are not familiar with\n",
            ">java\n",
            "Filtering Out java\n",
            "Company Name : sjainventures\n",
            "Skills : python,webdeveloper,webservices\n",
            "More Info : https://www.timesjobs.com/job-detail/python-intern-sjain-ventures-raipur-0-to-3-yrs-jobid-KmspiL9__SLASH__D9hzpSvf__PLUS__uAgZw==&source=srp\n",
            "\n",
            "Company Name : AxisTechnolabs\n",
            "Skills : python,django,itskills,html5,api,jquery\n",
            "More Info : https://www.timesjobs.com/job-detail/python-odoo-axistechnolabs-ahmedabad-0-to-1-yrs-jobid-HzL8naalyxFzpSvf__PLUS__uAgZw==&source=srp\n",
            "\n",
            "Company Name : AxisTechnolabs\n",
            "Skills : python,css,userinteraction,bootstrap,openerp,database,xml,oops,html\n",
            "More Info : https://www.timesjobs.com/job-detail/python-developer-axistechnolabs-ahmedabad-0-to-1-yrs-jobid-UqL7KgAUov1zpSvf__PLUS__uAgZw==&source=srp\n",
            "\n",
            "Company Name : gammastackindore\n",
            "Skills : python,database,django,restapi,oops,machinelearning,artificialintelligence\n",
            "More Info : https://www.timesjobs.com/job-detail/python-developer-gammastack-indore-indore-0-to-3-yrs-jobid-k5C0GmkyZ8JzpSvf__PLUS__uAgZw==&source=srp\n",
            "\n",
            "Company Name : ClaritazTechLabsLLP\n",
            "Skills : python,django,git,restapi,multithreading,shellscripting,api\n",
            "More Info : https://www.timesjobs.com/job-detail/python-developer-claritaz-techlabs-llp-chennai-0-to-3-yrs-jobid-__SLASH__w9__PLUS__x4RzH39zpSvf__PLUS__uAgZw==&source=srp\n",
            "\n",
            "Company Name : VeneraTechnologies\n",
            "Skills : algorithms,python,teamplayer,technicalskills,debugging,datastructures,mysql,multithreading\n",
            "More Info : https://www.timesjobs.com/job-detail/python-developer-venera-technologies-noida-greater-noida-0-to-2-yrs-jobid-x5daZQ9jgOpzpSvf__PLUS__uAgZw==&source=srp\n",
            "\n",
            "Waiting 10 minutes....\n"
          ]
        }
      ],
      "source": [
        "print(\"Put some skills your are not familiar with\")\n",
        "unfamiliar_skills = input('>')\n",
        "print(f\"Filtering Out {unfamiliar_skills}\")\n",
        "def find_jobs():\n",
        "  html_text = requests.get('https://www.timesjobs.com/candidate/job-search.html?searchType=personalizedSearch&from=submit&txtKeywords=python&txtLocation=&cboWorkExp1=0').text\n",
        "  soup = BeautifulSoup(html_text, 'lxml')\n",
        "  jobs = soup.find_all('li', class_='clearfix job-bx wht-shd-bx')\n",
        "  for job in jobs:\n",
        "    published_date = job.find('span', class_ = 'sim-posted').span.text\n",
        "    if 'few' in published_date:\n",
        "      company_name = job.find('h3', class_='joblist-comp-name').text.replace(' ','')\n",
        "      skills = job.find('span', class_='srp-skills').text.replace(' ','')\n",
        "      more_info = job.header.h2.a['href']\n",
        "      if unfamiliar_skills not in skills:\n",
        "        \n",
        "        print(f\"Company Name : {company_name.strip()}\")\n",
        "        print(f\"Skills : {skills.strip()}\")\n",
        "        print(f\"More Info : {more_info}\\n\")\n",
        "         \n",
        "\n",
        "if __name__ =='__main__':\n",
        "  while True:\n",
        "    find_jobs()\n",
        "    time_wait = 10\n",
        "    print(f\"Waiting {time_wait } minutes....\")\n",
        "    time.sleep(time_wait * 60)\n"
      ]
    }
  ],
  "metadata": {
    "colab": {
      "collapsed_sections": [],
      "provenance": []
    },
    "kernelspec": {
      "display_name": "Python 3",
      "name": "python3"
    },
    "language_info": {
      "name": "python"
    }
  },
  "nbformat": 4,
  "nbformat_minor": 0
}